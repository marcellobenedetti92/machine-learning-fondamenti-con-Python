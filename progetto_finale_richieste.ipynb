{
  "nbformat": 4,
  "nbformat_minor": 0,
  "metadata": {
    "colab": {
      "name": "health_insurance_cross_sell_prediction.ipynb",
      "provenance": [],
      "collapsed_sections": [
        "TLo1H9qcEo7X"
      ],
      "include_colab_link": true
    },
    "kernelspec": {
      "name": "python3",
      "display_name": "Python 3"
    },
    "language_info": {
      "name": "python"
    },
    "accelerator": "GPU"
  },
  "cells": [
    {
      "cell_type": "markdown",
      "metadata": {
        "id": "view-in-github",
        "colab_type": "text"
      },
      "source": [
        "<a href=\"https://colab.research.google.com/github/ProfAI/machine-learning-fondamenti/blob/main/Progetto%20Finale%20-%20Cross%20Selling%20di%20Polizze/health_insurance_cross_sell_prediction.ipynb\" target=\"_parent\"><img src=\"https://colab.research.google.com/assets/colab-badge.svg\" alt=\"Open In Colab\"/></a>"
      ]
    },
    {
      "cell_type": "markdown",
      "source": [
        "# Previsione di opportunità di Cross Sell di assicurazioni\n",
        "\n",
        "Il cliente è una compagnia di assicurazioni che ha fornito un'assicurazione sanitaria ai suoi clienti, adesso hanno bisogno del tuo aiuto per costruire un modello predittivo in grado di prevedere se gli assicurati dell'anno passato potrebbero essere interessati ad acquistare anche un'assicurazione per il proprio veicolo.\n",
        "\n",
        "Il dataset è composto dalle seguenti proprietà:\n",
        "- **id**: id univoco dell'acquirente.\n",
        "- **Gender**: sesso dell'acquirente.\n",
        "- **Age**: età dell'acquirente.\n",
        "- **Driving_License**: 1 se l'utente ha la patente di guida, 0 altrimenti.\n",
        "- **Region_Code**: codice univoco della regione dell'acquirente.\n",
        "- **Previously_Insured**: 1 se l'utente ha già un veicolo assicurato, 0 altrimenti.\n",
        "- **Vehicle_Age**: età del veicolo\n",
        "- **Vehicle_Damage**: 1 se l'utente ha danneggiato il veicolo in passato, 0 altrimenti.\n",
        "- **Annual_Premium**: la cifra che l'utente deve pagare come premio durante l'anno.\n",
        "- **Policy_Sales_Channel**: codice anonimizzato del canale utilizzato per la proposta (es. per email, per telefono, di persona, ecc...)\n",
        "- **Vintage**: numero di giorni dalla quale l'utente è cliente dell'azienda.\n",
        "- **Response**: 1 se l'acquirente ha risposto positivametne alla proposta di vendità, 0 altrimenti.\n",
        "\n",
        "L'obiettivo del modello è prevedere il valore di **Response**.\n",
        "\n",
        "**Tip**\n",
        "Fai attenzione alla distribuzione delle classi, dai uno sguardo a [questo approfondimento](https://machinelearningmastery.com/tactics-to-combat-imbalanced-classes-in-your-machine-learning-dataset/). In caso di classi sbilanciate puoi provare a:\n",
        "\n",
        "- Penalizzare la classe più frequente (ricorda l'argomento class_weight)\n",
        "- Utilizzare [l'oversampling o l'undersampling](https://machinelearningmastery.com/random-oversampling-and-undersampling-for-imbalanced-classification/).\n",
        "\n",
        "\n",
        "[LINK AL DATASET (Richiede un'account su Kaggle)](https://www.kaggle.com/anmolkumar/health-insurance-cross-sell-prediction)"
      ],
      "metadata": {
        "id": "C-_t2lBQvESK"
      }
    },
    {
      "cell_type": "markdown",
      "source": [
        "## Invia il tuo Progetto\n",
        "Invia il tuo progetto per la correzione solo quando lo hai ultimato.\n",
        "Per inviarlo:\n",
        "1. Clicca sul tasto **Share** in alto a destra.\n",
        "2. Condividi il notebook con **gfgullo@gmail.com**.\n",
        "3. Assicurati che sia selezionato il ruolo **editor**.\n",
        "4. Nel campo di testo, specifica il nome del corso e l'indirizzo email che hai usato per registrarti alla piattaforma.\n",
        "5. Clicca su Send.\n",
        "\n",
        "Assicurati di svolgere la procedura correttamente per permetterci di correggere il tuo progetto.\n",
        "\n",
        "**La correzione richiede tra i 2 e i 7 giorni lavorativi**, dopo tale periodo puoi chiedere informazioni sullo stato della correzione all'inidirizzo assignments@profession.ai."
      ],
      "metadata": {
        "id": "Sum7jSzAu2Bz"
      }
    },
    {
      "cell_type": "code",
      "source": [],
      "metadata": {
        "id": "CXRcDInkuh-m"
      },
      "execution_count": null,
      "outputs": []
    }
  ]
}