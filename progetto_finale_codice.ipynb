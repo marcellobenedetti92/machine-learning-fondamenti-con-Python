{
  "nbformat": 4,
  "nbformat_minor": 0,
  "metadata": {
    "colab": {
      "provenance": [],
      "collapsed_sections": [
        "PvqBg0LvGZ0d",
        "OhaB0N_CVVPZ",
        "97s1VIQ_aCwU",
        "HNP9xJJWcQkl",
        "cRemBqKWdAXy",
        "xAMiMYa4dIHF",
        "7brI4avpilPG",
        "0FcplXlesxzV",
        "sMUlxvbfwQ5W",
        "8lQ5xfeyxXwS",
        "kZDPuz6nx-pW",
        "IC5BF2i9UTkR",
        "TN10xZnVUZhU",
        "Kl9nzIcYUdQp",
        "hk2eKqX6UeM9",
        "V7b1_wBtUdIj"
      ],
      "include_colab_link": true
    },
    "kernelspec": {
      "name": "python3",
      "display_name": "Python 3"
    },
    "language_info": {
      "name": "python"
    }
  },
  "cells": [
    {
      "cell_type": "markdown",
      "metadata": {
        "id": "view-in-github",
        "colab_type": "text"
      },
      "source": [
        "<a href=\"https://colab.research.google.com/github/marcellobenedetti92/machine-learning-fondamenti/blob/main/progetto_finale_codice.ipynb\" target=\"_parent\"><img src=\"https://colab.research.google.com/assets/colab-badge.svg\" alt=\"Open In Colab\"/></a>"
      ]
    },
    {
      "cell_type": "markdown",
      "source": [
        "*Il molto bassa è 25-30? In realta' va pure bene, cioè voi dovete considerare il vantaggio economico che avrebbe l'azienda ad usare il vostro modello piuttosto che ad andare a caso. In questo caso è importante non perdersi dei potenziali acquirenti, quindi la recall è più importante, e nel modello è molto alta. Se la precision è più bassa vuol dire che i Sales faranno più chiamate a vuoto, quindi ci potrebbe essere uno spreco economico inteso come ora lavoro del sale, con una precision del 25% vuol dire che 1/4 dei chiamati non è in realta' interessato, però andando a caso questo numero sarebbe stato meno di 1/8 (distribuzione delle classi), quindi meno della metà. Quindi in realta' c'è un risparmio economico non indifferente.*"
      ],
      "metadata": {
        "id": "Fx2FYoqBNrGr"
      }
    },
    {
      "cell_type": "markdown",
      "source": [
        "# Modello di classificazione binaria"
      ],
      "metadata": {
        "id": "egtJgtncgsQQ"
      }
    },
    {
      "cell_type": "markdown",
      "source": [
        "### Import"
      ],
      "metadata": {
        "id": "PvqBg0LvGZ0d"
      }
    },
    {
      "cell_type": "markdown",
      "source": [
        "Import dei moduli funzionali"
      ],
      "metadata": {
        "id": "SukHQJ3VWo5v"
      }
    },
    {
      "cell_type": "code",
      "source": [
        "import numpy as np\n",
        "import pandas as pd\n",
        "\n",
        "from sklearn.preprocessing import StandardScaler\n",
        "from sklearn.linear_model import LogisticRegression\n",
        "from sklearn.metrics import confusion_matrix\n",
        "from sklearn.metrics import plot_roc_curve\n",
        "from sklearn.metrics import classification_report\n",
        "from sklearn.metrics import log_loss\n",
        "from sklearn.preprocessing import LabelEncoder\n",
        "from sklearn.model_selection import train_test_split\n",
        "from sklearn.metrics import mean_squared_error, r2_score\n",
        "\n",
        "from collections import Counter\n",
        "from imblearn.over_sampling import RandomOverSampler\n",
        "from imblearn.under_sampling import RandomUnderSampler\n",
        "\n",
        "import matplotlib.pyplot as plt\n",
        "import seaborn as sns"
      ],
      "metadata": {
        "id": "5ePJeXEVU9CY"
      },
      "execution_count": null,
      "outputs": []
    },
    {
      "cell_type": "markdown",
      "source": [
        "Lettura csv precedentemente caricato nello spazio virtuale di Colab e salvataggio in un dataframe"
      ],
      "metadata": {
        "id": "a0sT_3IIWv5b"
      }
    },
    {
      "cell_type": "code",
      "source": [
        "df_train = pd.read_csv(\"train.csv\")"
      ],
      "metadata": {
        "id": "4L_PVIzhIFqM"
      },
      "execution_count": null,
      "outputs": []
    },
    {
      "cell_type": "markdown",
      "source": [
        "### Pre-processing"
      ],
      "metadata": {
        "id": "OhaB0N_CVVPZ"
      }
    },
    {
      "cell_type": "markdown",
      "source": [
        "#### Drop id columns"
      ],
      "metadata": {
        "id": "97s1VIQ_aCwU"
      }
    },
    {
      "cell_type": "markdown",
      "source": [
        "Droppo la colonna relativa all'id perché popolata da valori unici, quindi informazione non rilevante ai fini del modello"
      ],
      "metadata": {
        "id": "p88J-k9CX63F"
      }
    },
    {
      "cell_type": "code",
      "source": [
        "df_train = df_train.drop(\"id\", axis=1)"
      ],
      "metadata": {
        "id": "tDA0fnjSUgeK"
      },
      "execution_count": null,
      "outputs": []
    },
    {
      "cell_type": "markdown",
      "source": [
        "#### Features encoding"
      ],
      "metadata": {
        "id": "HNP9xJJWcQkl"
      }
    },
    {
      "cell_type": "markdown",
      "source": [
        "##### One Hot Encoding per variabili categoriali"
      ],
      "metadata": {
        "id": "cRemBqKWdAXy"
      }
    },
    {
      "cell_type": "code",
      "source": [
        "# per le classi maschio e femmina del SET DI TRAIN droppando la prima colonna perché non aggiunge nessuna info al modello\n",
        "df_train = pd.get_dummies(df_train, columns=[\"Gender\"], drop_first=True)\n",
        "df_train.head()"
      ],
      "metadata": {
        "id": "VHcb-UFZcVkH"
      },
      "execution_count": null,
      "outputs": []
    },
    {
      "cell_type": "code",
      "source": [
        "# per le classi di Region_Code del SET DI TRAIN\n",
        "df_train = pd.get_dummies(df_train, columns=[\"Region_Code\"])\n",
        "df_train.head()"
      ],
      "metadata": {
        "id": "UPZ6Z7vQzcUL"
      },
      "execution_count": null,
      "outputs": []
    },
    {
      "cell_type": "code",
      "source": [
        "# per le classi Policy_Sales_Channel del SET DI TRAIN\n",
        "df_train = pd.get_dummies(df_train, columns=[\"Policy_Sales_Channel\"])\n",
        "df_train.head()"
      ],
      "metadata": {
        "id": "kAf_hwyHdt_f"
      },
      "execution_count": null,
      "outputs": []
    },
    {
      "cell_type": "markdown",
      "source": [
        "##### Label encoding per variabili ordinali"
      ],
      "metadata": {
        "id": "xAMiMYa4dIHF"
      }
    },
    {
      "cell_type": "code",
      "source": [
        "# conteggio valori per le classi di Vehicle_Age sul set di train\n",
        "counts_train = df_train[\"Vehicle_Age\"].value_counts()\n",
        "counts_train"
      ],
      "metadata": {
        "id": "Jr2G3p-xgatX"
      },
      "execution_count": null,
      "outputs": []
    },
    {
      "cell_type": "code",
      "source": [
        "# sostituzione valori di Vehicle_Age sul set di train\n",
        "age_mapping_train = {\"< 1 Year\":1, \"1-2 Year\":2, \"> 2 Years\":3}\n",
        "df_train[\"Vehicle_Age\"] = df_train[\"Vehicle_Age\"].map(age_mapping_train)\n",
        "df_train.head()"
      ],
      "metadata": {
        "id": "ef8TzyIHhH4e"
      },
      "execution_count": null,
      "outputs": []
    },
    {
      "cell_type": "code",
      "source": [
        "# codifica delle osservazioni della feature Vehicle_Damage a 0|1 sul set di train\n",
        "\n",
        "# stavolta con sklearn\n",
        "\n",
        "# inizializzazione del Label Encoder\n",
        "le = LabelEncoder()\n",
        "\n",
        "# applicazione della trasformazione\n",
        "df_train[\"Vehicle_Damage\"] = le.fit_transform(df_train[\"Vehicle_Damage\"])\n",
        "df_train.head()"
      ],
      "metadata": {
        "id": "zrbrj4FnhshG"
      },
      "execution_count": null,
      "outputs": []
    },
    {
      "cell_type": "markdown",
      "source": [
        "### Modello"
      ],
      "metadata": {
        "id": "7brI4avpilPG"
      }
    },
    {
      "cell_type": "markdown",
      "source": [
        "#### Creazione"
      ],
      "metadata": {
        "id": "0FcplXlesxzV"
      }
    },
    {
      "cell_type": "code",
      "source": [
        "# estrazione array con le features\n",
        "X = df_train.drop(\"Response\",axis = 1).values\n",
        "# e con il target\n",
        "y = df_train[\"Response\"].values"
      ],
      "metadata": {
        "id": "6LlcOsEqj0a8"
      },
      "execution_count": null,
      "outputs": []
    },
    {
      "cell_type": "code",
      "source": [
        "# creazione del set di test con il 30% dei valori del set di partenza\n",
        "X_train, X_test, y_train, y_test = train_test_split(X, y, test_size=.3)"
      ],
      "metadata": {
        "id": "NBdtnuJwj0XE"
      },
      "execution_count": null,
      "outputs": []
    },
    {
      "cell_type": "code",
      "source": [
        "# sommario della distribuzione in classi per il set di train\n",
        "print(Counter(y_train))\n",
        "# set sbilanciato\n",
        "\n",
        "# FEEDBACK DEL COACH GULLO\n",
        "# per prassi tali verifiche vanno fatte sul dataset intero,\n",
        "# non sul train set, anche se in questo caso c'è poca differenza\n",
        "# dato che la funzione train_test_split tende a mantenere la distribuzione delle classi presente nal dataset intero"
      ],
      "metadata": {
        "id": "tXRqPLQkPDu7"
      },
      "execution_count": null,
      "outputs": []
    },
    {
      "cell_type": "markdown",
      "source": [
        "#### Oversampling"
      ],
      "metadata": {
        "id": "sMUlxvbfwQ5W"
      }
    },
    {
      "cell_type": "code",
      "source": [
        "# PER IL SECONDO MODELLO\n",
        "\n",
        "# definizione strategia di Oversampling\n",
        "over = RandomOverSampler(sampling_strategy=0.25)\n",
        "# fit e applicazione della trasformazione\n",
        "X_train_ss25, y_train_ss25 = over.fit_resample(X_train, y_train)\n",
        "# check ulteriore sommario della distribuzione delle classi\n",
        "print(Counter(y_train_ss25))"
      ],
      "metadata": {
        "id": "cE_beScuxyoH"
      },
      "execution_count": null,
      "outputs": []
    },
    {
      "cell_type": "code",
      "source": [
        "# PER IL TERZO MODELLO\n",
        "\n",
        "# definizione strategia di Oversampling\n",
        "over = RandomOverSampler(sampling_strategy=0.5)\n",
        "# fit e applicazione della trasformazione\n",
        "X_train_ss50, y_train_ss50 = over.fit_resample(X_train, y_train)\n",
        "# check ulteriore sommario della distribuzione delle classi\n",
        "print(Counter(y_train_ss50))"
      ],
      "metadata": {
        "id": "ST7n_M1YR6GC"
      },
      "execution_count": null,
      "outputs": []
    },
    {
      "cell_type": "code",
      "source": [
        "# PER IL QUARTO MODELLO\n",
        "\n",
        "# definizione strategia di Oversampling\n",
        "over = RandomOverSampler(sampling_strategy=0.75)\n",
        "# fit e applicazione della trasformazione\n",
        "X_train_ss75, y_train_ss75 = over.fit_resample(X_train, y_train)\n",
        "# check ulteriore sommario della distribuzione delle classi\n",
        "print(Counter(y_train_ss75))"
      ],
      "metadata": {
        "id": "FpJQH84DR5gz"
      },
      "execution_count": null,
      "outputs": []
    },
    {
      "cell_type": "code",
      "source": [
        "# PER IL QUINTO MODELLO\n",
        "\n",
        "# definizione strategia di Oversampling\n",
        "over = RandomOverSampler(sampling_strategy=1)\n",
        "# fit e applicazione della trasformazione\n",
        "X_train_ss1, y_train_ss1 = over.fit_resample(X_train, y_train)\n",
        "# check ulteriore sommario della distribuzione delle classi\n",
        "print(Counter(y_train_ss1))"
      ],
      "metadata": {
        "id": "-zpwXSyAR5HP"
      },
      "execution_count": null,
      "outputs": []
    },
    {
      "cell_type": "markdown",
      "source": [
        "#### Standard Scaler e Fit del modello"
      ],
      "metadata": {
        "id": "8lQ5xfeyxXwS"
      }
    },
    {
      "cell_type": "code",
      "source": [
        "ss = StandardScaler()"
      ],
      "metadata": {
        "id": "VROlXloPtEWa"
      },
      "execution_count": null,
      "outputs": []
    },
    {
      "cell_type": "code",
      "source": [
        "#COACH: Con ogni fit_transform vai a sovrascrivere i valori di media e deviazione standard utilizzati per la trasformazione\n",
        "# questo vuol dire che X_test verrà standardizzato come X_train_ss1, di conseguenza non è corretto utilizzarlo anche per valutare gli altri modelli\n",
        "# avresti dovuto creare un test set per ogni train set, oppure STANDARDIZZARE E ADDESTRARE UN MODELLO PER VOLTA\n",
        "\n",
        "#IO: ho diviso in blocchi di codice separati così da rispettare quanto sopra in maiuscolo\n",
        "\n",
        "X_train = ss.fit_transform(X_train)\n",
        "X_test = ss.transform(X_test)"
      ],
      "metadata": {
        "id": "QSe1YsMPtEUU"
      },
      "execution_count": null,
      "outputs": []
    },
    {
      "cell_type": "code",
      "source": [
        "X_train_ss25 = ss.fit_transform(X_train_ss25)\n",
        "X_test = ss.transform(X_test)"
      ],
      "metadata": {
        "id": "9MkhpssApMbb"
      },
      "execution_count": null,
      "outputs": []
    },
    {
      "cell_type": "code",
      "source": [
        "X_train_ss50 = ss.fit_transform(X_train_ss50)\n",
        "X_test = ss.transform(X_test)"
      ],
      "metadata": {
        "id": "HRmSYgsPpMW0"
      },
      "execution_count": null,
      "outputs": []
    },
    {
      "cell_type": "code",
      "source": [
        "X_train_ss75 = ss.fit_transform(X_train_ss75)\n",
        "X_test = ss.transform(X_test)"
      ],
      "metadata": {
        "id": "eh-_7p9spMTN"
      },
      "execution_count": null,
      "outputs": []
    },
    {
      "cell_type": "code",
      "source": [
        "X_train_ss1 = ss.fit_transform(X_train_ss1) \n",
        "X_test = ss.transform(X_test)"
      ],
      "metadata": {
        "id": "LyzQx1rSpMN4"
      },
      "execution_count": null,
      "outputs": []
    },
    {
      "cell_type": "code",
      "source": [
        "lr = LogisticRegression()"
      ],
      "metadata": {
        "id": "-Gc3Z_C0tER8"
      },
      "execution_count": null,
      "outputs": []
    },
    {
      "cell_type": "code",
      "source": [
        "# anche qui stessa cosa di sopra al commento IO\n",
        "\n",
        "lr.fit(X_train, y_train)"
      ],
      "metadata": {
        "id": "8gBSVC1htEPl"
      },
      "execution_count": null,
      "outputs": []
    },
    {
      "cell_type": "code",
      "source": [
        "lr.fit(X_train_ss25, y_train_ss25)"
      ],
      "metadata": {
        "id": "4ry6ozjWpfGp"
      },
      "execution_count": null,
      "outputs": []
    },
    {
      "cell_type": "code",
      "source": [
        "lr.fit(X_train_ss50, y_train_ss50)"
      ],
      "metadata": {
        "id": "k4RdyZcypfEZ"
      },
      "execution_count": null,
      "outputs": []
    },
    {
      "cell_type": "code",
      "source": [
        "lr.fit(X_train_ss75, y_train_ss75)"
      ],
      "metadata": {
        "id": "a9EPj1erpfB1"
      },
      "execution_count": null,
      "outputs": []
    },
    {
      "cell_type": "code",
      "source": [
        "lr.fit(X_train_ss1, y_train_ss1)"
      ],
      "metadata": {
        "id": "uEnFtc-lpe-9"
      },
      "execution_count": null,
      "outputs": []
    },
    {
      "cell_type": "markdown",
      "source": [
        "#### Valutazione modello"
      ],
      "metadata": {
        "id": "kZDPuz6nx-pW"
      }
    },
    {
      "cell_type": "code",
      "source": [
        "y_pred_train = lr.predict(X_train)\n",
        "y_proba_train = lr.predict_proba(X_train)\n",
        "\n",
        "y_pred_test = lr.predict(X_test)\n",
        "y_proba_test = lr.predict_proba(X_test)"
      ],
      "metadata": {
        "id": "ef2LcMILyBpp"
      },
      "execution_count": null,
      "outputs": []
    },
    {
      "cell_type": "code",
      "source": [
        "y_pred_train_ss25 = lr.predict(X_train_ss25)\n",
        "y_proba_train_ss25 = lr.predict_proba(X_train_ss25)\n",
        "\n",
        "y_pred_test_ss25 = lr.predict(X_test)\n",
        "y_proba_test_ss25 = lr.predict_proba(X_test)"
      ],
      "metadata": {
        "id": "Zv86F-mZTx-6"
      },
      "execution_count": null,
      "outputs": []
    },
    {
      "cell_type": "code",
      "source": [
        "y_pred_train_ss50 = lr.predict(X_train_ss50)\n",
        "y_proba_train_ss50 = lr.predict_proba(X_train_ss50)\n",
        "\n",
        "y_pred_test_ss50 = lr.predict(X_test)\n",
        "y_proba_test_ss50 = lr.predict_proba(X_test)"
      ],
      "metadata": {
        "id": "xjqsQKAxTx3r"
      },
      "execution_count": null,
      "outputs": []
    },
    {
      "cell_type": "code",
      "source": [
        "y_pred_train_ss75 = lr.predict(X_train_ss75)\n",
        "y_proba_train_ss75 = lr.predict_proba(X_train_ss75)\n",
        "\n",
        "y_pred_test_ss75 = lr.predict(X_test)\n",
        "y_proba_test_ss75 = lr.predict_proba(X_test)"
      ],
      "metadata": {
        "id": "UO7jJkwSTxvz"
      },
      "execution_count": null,
      "outputs": []
    },
    {
      "cell_type": "code",
      "source": [
        "y_pred_train_ss1 = lr.predict(X_train_ss1)\n",
        "y_proba_train_ss1 = lr.predict_proba(X_train_ss1)\n",
        "\n",
        "y_pred_test_ss1 = lr.predict(X_test)\n",
        "y_proba_test_ss1 = lr.predict_proba(X_test)"
      ],
      "metadata": {
        "id": "-96dvkTkTxnv"
      },
      "execution_count": null,
      "outputs": []
    },
    {
      "cell_type": "markdown",
      "source": [
        "##### Modello senza Oversampling"
      ],
      "metadata": {
        "id": "IC5BF2i9UTkR"
      }
    },
    {
      "cell_type": "code",
      "source": [
        "print(classification_report(y_train, y_pred_train))"
      ],
      "metadata": {
        "id": "Xsi-DM4byBnx"
      },
      "execution_count": null,
      "outputs": []
    },
    {
      "cell_type": "code",
      "source": [
        "print(classification_report(y_test, y_pred_test))"
      ],
      "metadata": {
        "id": "BC_MI3KCyBlK"
      },
      "execution_count": null,
      "outputs": []
    },
    {
      "cell_type": "markdown",
      "source": [
        "##### Modello con Oversampling 0.25"
      ],
      "metadata": {
        "id": "TN10xZnVUZhU"
      }
    },
    {
      "cell_type": "code",
      "source": [
        "print(classification_report(y_train_ss25, y_pred_train_ss25))"
      ],
      "metadata": {
        "id": "ckCDxJPZUvJ3"
      },
      "execution_count": null,
      "outputs": []
    },
    {
      "cell_type": "code",
      "source": [
        "print(classification_report(y_test, y_pred_test_ss25))"
      ],
      "metadata": {
        "id": "KL4gBnZQUu9x"
      },
      "execution_count": null,
      "outputs": []
    },
    {
      "cell_type": "markdown",
      "source": [
        "##### Modello con Oversampling 0.5"
      ],
      "metadata": {
        "id": "Kl9nzIcYUdQp"
      }
    },
    {
      "cell_type": "code",
      "source": [
        "print(classification_report(y_train_ss50, y_pred_train_ss50))"
      ],
      "metadata": {
        "id": "ZQSAsuPxUvwB"
      },
      "execution_count": null,
      "outputs": []
    },
    {
      "cell_type": "code",
      "source": [
        "print(classification_report(y_test, y_pred_test_ss50))"
      ],
      "metadata": {
        "id": "FeB0KN2TUvrS"
      },
      "execution_count": null,
      "outputs": []
    },
    {
      "cell_type": "markdown",
      "source": [
        "##### Modello con Oversampling 0.75"
      ],
      "metadata": {
        "id": "hk2eKqX6UeM9"
      }
    },
    {
      "cell_type": "code",
      "source": [
        "print(classification_report(y_train_ss75, y_pred_train_ss75))"
      ],
      "metadata": {
        "id": "Db6U0lvxUwTQ"
      },
      "execution_count": null,
      "outputs": []
    },
    {
      "cell_type": "code",
      "source": [
        "print(classification_report(y_test, y_pred_test_ss75))"
      ],
      "metadata": {
        "id": "Y-8OdQucUwQp"
      },
      "execution_count": null,
      "outputs": []
    },
    {
      "cell_type": "markdown",
      "source": [
        "##### Modello con Oversampling 1"
      ],
      "metadata": {
        "id": "V7b1_wBtUdIj"
      }
    },
    {
      "cell_type": "code",
      "source": [
        "print(classification_report(y_train_ss1, y_pred_train_ss1))"
      ],
      "metadata": {
        "id": "ta3pVCUvUtNs"
      },
      "execution_count": null,
      "outputs": []
    },
    {
      "cell_type": "code",
      "source": [
        "print(classification_report(y_test, y_pred_test_ss1))"
      ],
      "metadata": {
        "id": "A2v0BJVpUw5j"
      },
      "execution_count": null,
      "outputs": []
    }
  ]
}